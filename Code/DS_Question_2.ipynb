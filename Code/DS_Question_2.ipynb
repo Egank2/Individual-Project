{
  "nbformat": 4,
  "nbformat_minor": 0,
  "metadata": {
    "colab": {
      "provenance": []
    },
    "kernelspec": {
      "name": "python3",
      "display_name": "Python 3"
    },
    "language_info": {
      "name": "python"
    }
  },
  "cells": [
    {
      "cell_type": "markdown",
      "source": [
        "# **General Numbers for dataset from 2011-2020**"
      ],
      "metadata": {
        "id": "GYLgP09om08p"
      }
    },
    {
      "cell_type": "code",
      "source": [
        "import pandas as pd\n",
        "\n",
        "# Load the CSV file\n",
        "df = pd.read_csv(\"labeled_financial_news_2M.csv\")\n",
        "\n",
        "# Filter for years between 2011 and 2020\n",
        "df_filtered = df[(df['year'] >= 2011) & (df['year'] <= 2020)]\n",
        "\n",
        "# Loop through each year and count sentiment labels\n",
        "for year in range(2011, 2021):\n",
        "    yearly_data = df_filtered[df_filtered['year'] == year]\n",
        "    sentiment_counts = yearly_data['sentiment'].value_counts()\n",
        "\n",
        "    # Extract counts or default to 0 if not present\n",
        "    bullish = sentiment_counts.get('bullish', 0)\n",
        "    bearish = sentiment_counts.get('bearish', 0)\n",
        "    neutral = sentiment_counts.get('neutral', 0)\n",
        "\n",
        "    print(f\"Year {year}:\")\n",
        "    print(f\"  Bullish: {bullish}\")\n",
        "    print(f\"  Bearish: {bearish}\")\n",
        "    print(f\"  Neutral: {neutral}\")\n",
        "    print(\"-\" * 30)\n"
      ],
      "metadata": {
        "colab": {
          "base_uri": "https://localhost:8080/"
        },
        "id": "JabwXstYwHvn",
        "outputId": "1cbe9cc4-de14-48f2-d308-245242bd9b3d"
      },
      "execution_count": 2,
      "outputs": [
        {
          "output_type": "stream",
          "name": "stdout",
          "text": [
            "Year 2011:\n",
            "  Bullish: 16873\n",
            "  Bearish: 11546\n",
            "  Neutral: 44025\n",
            "------------------------------\n",
            "Year 2012:\n",
            "  Bullish: 20401\n",
            "  Bearish: 13996\n",
            "  Neutral: 32864\n",
            "------------------------------\n",
            "Year 2013:\n",
            "  Bullish: 21638\n",
            "  Bearish: 14625\n",
            "  Neutral: 31219\n",
            "------------------------------\n",
            "Year 2014:\n",
            "  Bullish: 23254\n",
            "  Bearish: 16459\n",
            "  Neutral: 37021\n",
            "------------------------------\n",
            "Year 2015:\n",
            "  Bullish: 18872\n",
            "  Bearish: 15887\n",
            "  Neutral: 39676\n",
            "------------------------------\n",
            "Year 2016:\n",
            "  Bullish: 17369\n",
            "  Bearish: 20255\n",
            "  Neutral: 39793\n",
            "------------------------------\n",
            "Year 2017:\n",
            "  Bullish: 14364\n",
            "  Bearish: 18034\n",
            "  Neutral: 35350\n",
            "------------------------------\n",
            "Year 2018:\n",
            "  Bullish: 21529\n",
            "  Bearish: 23286\n",
            "  Neutral: 35749\n",
            "------------------------------\n",
            "Year 2019:\n",
            "  Bullish: 22864\n",
            "  Bearish: 21715\n",
            "  Neutral: 36946\n",
            "------------------------------\n",
            "Year 2020:\n",
            "  Bullish: 16076\n",
            "  Bearish: 17820\n",
            "  Neutral: 23384\n",
            "------------------------------\n"
          ]
        }
      ]
    },
    {
      "cell_type": "code",
      "source": [
        "df_filtered = df[(df['year'] >= 2011) & (df['year'] <= 2020)]\n",
        "\n",
        "# Count sentiment totals across the full filtered range\n",
        "sentiment_totals = df_filtered['sentiment'].value_counts()\n",
        "\n",
        "# Extract totals or default to 0 if not found\n",
        "bullish_total = sentiment_totals.get('bullish', 0)\n",
        "bearish_total = sentiment_totals.get('bearish', 0)\n",
        "neutral_total = sentiment_totals.get('neutral', 0)\n",
        "\n",
        "# Print results\n",
        "print(\"Total Headlines from 2011 to 2020:\")\n",
        "print(f\"  Bullish: {bullish_total}\")\n",
        "print(f\"  Bearish: {bearish_total}\")\n",
        "print(f\"  Neutral: {neutral_total}\")"
      ],
      "metadata": {
        "colab": {
          "base_uri": "https://localhost:8080/"
        },
        "id": "MSO08edGwk6a",
        "outputId": "34b10f5b-0502-4cf7-ad1c-d84bc76b0c53"
      },
      "execution_count": 3,
      "outputs": [
        {
          "output_type": "stream",
          "name": "stdout",
          "text": [
            "Total Headlines from 2011 to 2020:\n",
            "  Bullish: 193240\n",
            "  Bearish: 173623\n",
            "  Neutral: 356027\n"
          ]
        }
      ]
    },
    {
      "cell_type": "code",
      "source": [
        "import pandas as pd\n",
        "import matplotlib.pyplot as plt\n",
        "\n",
        "# Your sentiment data\n",
        "sentiment_counts = {'neutral': 839955, 'bullish': 392002, 'bearish': 316847}\n",
        "total = sum(sentiment_counts.values())\n",
        "\n",
        "# Create DataFrame with percentages\n",
        "df = pd.DataFrame.from_dict(sentiment_counts, orient='index', columns=['Count'])\n",
        "df['Percentage'] = (df['Count'] / total * 100).round(2)\n",
        "\n",
        "# Reorder the index for presentation\n",
        "df = df.loc[['bullish', 'bearish', 'neutral']]\n",
        "\n",
        "# Print the table\n",
        "print(\"Sentiment Distribution Table:\\n\")\n",
        "print(df)\n",
        "\n",
        "# Bar Chart\n",
        "plt.figure(figsize=(8, 5))\n",
        "plt.bar(df.index, df['Count'], color=['green', 'red', 'gray'])\n",
        "plt.title(\"Number of Stock News Headlines by Sentiment\")\n",
        "plt.ylabel(\"Count\")\n",
        "plt.xlabel(\"Sentiment\")\n",
        "plt.show()\n",
        "\n",
        "# Pie Chart\n",
        "plt.figure(figsize=(6, 6))\n",
        "plt.pie(df['Percentage'], labels=df.index, autopct='%1.1f%%',\n",
        "        startangle=140, colors=['green', 'red', 'gray'])\n",
        "plt.title(\"Stock News Sentiment Distribution (Percentage)\")\n",
        "plt.axis('equal')\n",
        "plt.show()"
      ],
      "metadata": {
        "colab": {
          "base_uri": "https://localhost:8080/",
          "height": 1000
        },
        "id": "rIcdg6B0WUcS",
        "outputId": "3190c81b-9f59-446e-b8d0-7ea844a2df00"
      },
      "execution_count": 4,
      "outputs": [
        {
          "output_type": "stream",
          "name": "stdout",
          "text": [
            "Sentiment Distribution Table:\n",
            "\n",
            "          Count  Percentage\n",
            "bullish  392002       25.31\n",
            "bearish  316847       20.46\n",
            "neutral  839955       54.23\n"
          ]
        },
        {
          "output_type": "display_data",
          "data": {
            "text/plain": [
              "<Figure size 800x500 with 1 Axes>"
            ],
            "image/png": "[encoded data removed]"
          },
          "metadata": {}
        },
        {
          "output_type": "display_data",
          "data": {
            "text/plain": [
              "<Figure size 600x600 with 1 Axes>"
            ],
            "image/png": "[encoded data removed]"
          },
          "metadata": {}
        }
      ]
    },
    {
      "cell_type": "code",
      "source": [
        "import pandas as pd\n",
        "\n",
        "# Load the CSV file\n",
        "df = pd.read_csv(\"labeled_financial_news_2M.csv\")\n",
        "\n",
        "# Filter for years between 1999 and 2023\n",
        "df_filtered = df[(df['year'] >= 2000) & (df['year'] <= 2021)]\n",
        "\n",
        "# Loop through each year and count sentiment labels\n",
        "for year in range(2000, 2021):\n",
        "    yearly_data = df_filtered[df_filtered['year'] == year]\n",
        "    sentiment_counts = yearly_data['sentiment'].value_counts()\n",
        "\n",
        "    # Extract counts or default to 0 if not present\n",
        "    bullish = sentiment_counts.get('bullish', 0)\n",
        "    bearish = sentiment_counts.get('bearish', 0)\n",
        "    neutral = sentiment_counts.get('neutral', 0)\n",
        "\n",
        "    print(f\"Year {year}:\")\n",
        "    print(f\"  Bullish: {bullish}\")\n",
        "    print(f\"  Bearish: {bearish}\")\n",
        "    print(f\"  Neutral: {neutral}\")\n",
        "    print(\"-\" * 30)\n",
        "\n"
      ],
      "metadata": {
        "colab": {
          "base_uri": "https://localhost:8080/"
        },
        "id": "utryOEB7srUu",
        "outputId": "7d43e450-e4e6-435e-b73d-e6d87a8d2468"
      },
      "execution_count": 11,
      "outputs": [
        {
          "output_type": "stream",
          "name": "stderr",
          "text": [
            "<ipython-input-11-da14004a3d87>:4: DtypeWarning: Columns (5) have mixed types. Specify dtype option on import or set low_memory=False.\n",
            "  df = pd.read_csv(\"labeled_financial_news_2M.csv\")\n"
          ]
        },
        {
          "output_type": "stream",
          "name": "stdout",
          "text": [
            "Year 2000:\n",
            "  Bullish: 1761\n",
            "  Bearish: 0\n",
            "  Neutral: 14415\n",
            "------------------------------\n",
            "Year 2001:\n",
            "  Bullish: 2507\n",
            "  Bearish: 0\n",
            "  Neutral: 19467\n",
            "------------------------------\n",
            "Year 2002:\n",
            "  Bullish: 2819\n",
            "  Bearish: 0\n",
            "  Neutral: 19360\n",
            "------------------------------\n",
            "Year 2003:\n",
            "  Bullish: 2933\n",
            "  Bearish: 0\n",
            "  Neutral: 18624\n",
            "------------------------------\n",
            "Year 2004:\n",
            "  Bullish: 3185\n",
            "  Bearish: 0\n",
            "  Neutral: 21201\n",
            "------------------------------\n",
            "Year 2005:\n",
            "  Bullish: 3903\n",
            "  Bearish: 0\n",
            "  Neutral: 26815\n",
            "------------------------------\n",
            "Year 2006:\n",
            "  Bullish: 4309\n",
            "  Bearish: 0\n",
            "  Neutral: 31655\n",
            "------------------------------\n",
            "Year 2007:\n",
            "  Bullish: 4439\n",
            "  Bearish: 0\n",
            "  Neutral: 31590\n",
            "------------------------------\n",
            "Year 2008:\n",
            "  Bullish: 6284\n",
            "  Bearish: 1\n",
            "  Neutral: 44104\n",
            "------------------------------\n",
            "Year 2009:\n",
            "  Bullish: 8995\n",
            "  Bearish: 1098\n",
            "  Neutral: 52739\n",
            "------------------------------\n",
            "Year 2010:\n",
            "  Bullish: 19743\n",
            "  Bearish: 9155\n",
            "  Neutral: 97008\n",
            "------------------------------\n",
            "Year 2011:\n",
            "  Bullish: 35675\n",
            "  Bearish: 22483\n",
            "  Neutral: 117986\n",
            "------------------------------\n",
            "Year 2012:\n",
            "  Bullish: 43554\n",
            "  Bearish: 26033\n",
            "  Neutral: 99115\n",
            "------------------------------\n",
            "Year 2013:\n",
            "  Bullish: 47413\n",
            "  Bearish: 25919\n",
            "  Neutral: 91488\n",
            "------------------------------\n",
            "Year 2014:\n",
            "  Bullish: 48577\n",
            "  Bearish: 28427\n",
            "  Neutral: 95930\n",
            "------------------------------\n",
            "Year 2015:\n",
            "  Bullish: 44107\n",
            "  Bearish: 28798\n",
            "  Neutral: 107156\n",
            "------------------------------\n",
            "Year 2016:\n",
            "  Bullish: 35287\n",
            "  Bearish: 37324\n",
            "  Neutral: 86558\n",
            "------------------------------\n",
            "Year 2017:\n",
            "  Bullish: 26108\n",
            "  Bearish: 32814\n",
            "  Neutral: 65534\n",
            "------------------------------\n",
            "Year 2018:\n",
            "  Bullish: 39775\n",
            "  Bearish: 41625\n",
            "  Neutral: 65524\n",
            "------------------------------\n",
            "Year 2019:\n",
            "  Bullish: 42043\n",
            "  Bearish: 40459\n",
            "  Neutral: 67878\n",
            "------------------------------\n",
            "Year 2020:\n",
            "  Bullish: 29463\n",
            "  Bearish: 32965\n",
            "  Neutral: 42786\n",
            "------------------------------\n"
          ]
        }
      ]
    },
    {
      "cell_type": "markdown",
      "source": [
        "# **Covid (2020)**"
      ],
      "metadata": {
        "id": "L3KGocqcoaOQ"
      }
    },
    {
      "cell_type": "code",
      "source": [
        "import pandas as pd\n",
        "\n",
        "# Load only needed columns for efficiency\n",
        "df = pd.read_csv(\"/content/labeled_financial_news_2M.csv\", usecols=[\"date\", \"sentiment\"])\n",
        "\n",
        "# Convert 'date' to datetime\n",
        "df['date'] = pd.to_datetime(df['date'], errors='coerce')  # coerce to handle bad rows\n",
        "\n",
        "# Drop rows with invalid dates\n",
        "df = df.dropna(subset=['date'])\n",
        "\n",
        "# Filter for only the year 2020\n",
        "df_filtered = df[df['date'].dt.year == 2020]\n",
        "\n",
        "# Count sentiment values\n",
        "sentiment_counts = df_filtered['sentiment'].value_counts()\n",
        "\n",
        "# Print results\n",
        "print(\"Sentiment Counts for 2020:\")\n",
        "print(sentiment_counts)"
      ],
      "metadata": {
        "colab": {
          "base_uri": "https://localhost:8080/"
        },
        "id": "9oX8csFRoeP0",
        "outputId": "b4f4ab85-c93c-4811-8b4b-e062b26a2692"
      },
      "execution_count": 8,
      "outputs": [
        {
          "output_type": "stream",
          "name": "stdout",
          "text": [
            "Sentiment Counts for 2020:\n",
            "sentiment\n",
            "neutral    42786\n",
            "bearish    32965\n",
            "bullish    29463\n",
            "Name: count, dtype: int64\n"
          ]
        }
      ]
    },
    {
      "cell_type": "code",
      "source": [],
      "metadata": {
        "id": "ZUcAYRJqtmE2"
      },
      "execution_count": null,
      "outputs": []
    }
  ]
}